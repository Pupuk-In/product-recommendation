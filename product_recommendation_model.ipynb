{
  "nbformat": 4,
  "nbformat_minor": 0,
  "metadata": {
    "colab": {
      "provenance": [],
      "gpuType": "T4",
      "authorship_tag": "ABX9TyOZOUNYTAAzjDsjj+ArRSKv"
    },
    "kernelspec": {
      "name": "python3",
      "display_name": "Python 3"
    },
    "language_info": {
      "name": "python"
    },
    "accelerator": "GPU"
  },
  "cells": [
    {
      "cell_type": "code",
      "source": [
        "!pip install -q tensorflow-recommenders\n",
        "!pip install -q --upgrade tensorflow-datasets"
      ],
      "metadata": {
        "id": "6rmbtxA6-UJC",
        "colab": {
          "base_uri": "https://localhost:8080/"
        },
        "outputId": "af123e6b-9555-4c92-d893-da72d564eedf"
      },
      "execution_count": 1,
      "outputs": [
        {
          "output_type": "stream",
          "name": "stdout",
          "text": [
            "\u001b[?25l     \u001b[90m━━━━━━━━━━━━━━━━━━━━━━━━━━━━━━━━━━━━━━━━\u001b[0m \u001b[32m0.0/96.2 kB\u001b[0m \u001b[31m?\u001b[0m eta \u001b[36m-:--:--\u001b[0m\r\u001b[2K     \u001b[90m━━━━━━━━━━━━━━━━━━━━━━━━━━━━━━━━━━━━━━━━\u001b[0m \u001b[32m96.2/96.2 kB\u001b[0m \u001b[31m6.0 MB/s\u001b[0m eta \u001b[36m0:00:00\u001b[0m\n",
            "\u001b[?25h"
          ]
        }
      ]
    },
    {
      "cell_type": "code",
      "execution_count": 2,
      "metadata": {
        "id": "dbriMrl0fJ78"
      },
      "outputs": [],
      "source": [
        "from typing import Dict, Text\n",
        "\n",
        "import pandas as pd\n",
        "import numpy as np\n",
        "import tensorflow as tf\n",
        "\n",
        "import tensorflow_datasets as tfds\n",
        "import tensorflow_recommenders as tfrs"
      ]
    },
    {
      "cell_type": "code",
      "source": [
        "from google.colab import drive\n",
        "drive.mount('/content/gdrive')"
      ],
      "metadata": {
        "colab": {
          "base_uri": "https://localhost:8080/"
        },
        "id": "m9Nae2vfwbPk",
        "outputId": "cb40c168-f331-41d9-a995-aaca0f9f595a"
      },
      "execution_count": 3,
      "outputs": [
        {
          "output_type": "stream",
          "name": "stdout",
          "text": [
            "Mounted at /content/gdrive\n"
          ]
        }
      ]
    },
    {
      "cell_type": "code",
      "source": [
        "df = pd.read_csv('/content/gdrive/MyDrive/ratings_Beauty.csv')"
      ],
      "metadata": {
        "id": "rRT_NZHZwbzA"
      },
      "execution_count": 4,
      "outputs": []
    },
    {
      "cell_type": "code",
      "source": [
        "dfsubset = df.iloc[:100000]"
      ],
      "metadata": {
        "id": "7G0GxlNVkOxb"
      },
      "execution_count": 5,
      "outputs": []
    },
    {
      "cell_type": "code",
      "source": [
        "dataset = tf.data.Dataset.from_tensor_slices(dict(dfsubset))"
      ],
      "metadata": {
        "id": "Kdu1UisRkSX2"
      },
      "execution_count": 6,
      "outputs": []
    },
    {
      "cell_type": "code",
      "source": [
        "ratings = dataset.map(lambda x: {\n",
        "    \"ProductId\": x[\"ProductId\"],\n",
        "    \"UserId\": x[\"UserId\"]\n",
        "})\n",
        "\n",
        "products = dataset.map(lambda x: x[\"ProductId\"])"
      ],
      "metadata": {
        "id": "JM_ORLZukSmi"
      },
      "execution_count": 7,
      "outputs": []
    },
    {
      "cell_type": "code",
      "source": [
        "user_ids_vocabulary = tf.keras.layers.StringLookup(mask_token=None)\n",
        "user_ids_vocabulary.adapt(ratings.map(lambda x: x[\"UserId\"]))\n",
        "\n",
        "product_ids_vocabulary = tf.keras.layers.StringLookup(mask_token=None)\n",
        "product_ids_vocabulary.adapt(products)"
      ],
      "metadata": {
        "id": "V1NGjpZ9kS8i"
      },
      "execution_count": 8,
      "outputs": []
    },
    {
      "cell_type": "code",
      "source": [
        "class BeautyRatingsModel(tfrs.Model):\n",
        "  # We derive from a custom base class to help reduce boilerplate. Under the hood,\n",
        "  # these are still plain Keras Models.\n",
        "\n",
        "  def __init__(\n",
        "      self,\n",
        "      user_model: tf.keras.Model,\n",
        "      product_model: tf.keras.Model,\n",
        "      task: tfrs.tasks.Retrieval):\n",
        "    super().__init__()\n",
        "\n",
        "    # Set up user and movie representations.\n",
        "    self.user_model = user_model\n",
        "    self.product_model = product_model\n",
        "\n",
        "    # Set up a retrieval task.\n",
        "    self.task = task\n",
        "\n",
        "  def compute_loss(self, features: Dict[Text, tf.Tensor], training=False) -> tf.Tensor:\n",
        "    # Define how the loss is computed.\n",
        "\n",
        "    user_embeddings = self.user_model(features[\"UserId\"])\n",
        "    product_embeddings = self.product_model(features[\"ProductId\"])\n",
        "\n",
        "    return self.task(user_embeddings, product_embeddings)"
      ],
      "metadata": {
        "id": "HTu1Y1NwkTHN"
      },
      "execution_count": 9,
      "outputs": []
    },
    {
      "cell_type": "code",
      "source": [
        "# Define user and movie models.\n",
        "user_model = tf.keras.Sequential([\n",
        "    user_ids_vocabulary,\n",
        "    tf.keras.layers.Embedding(user_ids_vocabulary.vocab_size(), 64)\n",
        "])\n",
        "product_model = tf.keras.Sequential([\n",
        "    product_ids_vocabulary,\n",
        "    tf.keras.layers.Embedding(product_ids_vocabulary.vocab_size(), 64)\n",
        "])\n",
        "\n",
        "# Define your objectives.\n",
        "task = tfrs.tasks.Retrieval(metrics=tfrs.metrics.FactorizedTopK(\n",
        "    products.batch(128).map(product_model)\n",
        "  )\n",
        ")"
      ],
      "metadata": {
        "colab": {
          "base_uri": "https://localhost:8080/"
        },
        "id": "xHZuvu-mkTQg",
        "outputId": "da69567d-f981-4014-9310-4296979576dc"
      },
      "execution_count": 10,
      "outputs": [
        {
          "output_type": "stream",
          "name": "stderr",
          "text": [
            "WARNING:tensorflow:vocab_size is deprecated, please use vocabulary_size.\n",
            "WARNING:tensorflow:vocab_size is deprecated, please use vocabulary_size.\n"
          ]
        }
      ]
    },
    {
      "cell_type": "code",
      "source": [
        "# Create a retrieval model.\n",
        "model = BeautyRatingsModel(user_model, product_model, task)\n",
        "model.compile(optimizer=tf.keras.optimizers.Adagrad(0.5))\n",
        "\n",
        "# Train for 3 epochs.\n",
        "model.fit(ratings.batch(4096), epochs=3)\n",
        "\n",
        "# Use brute-force search to set up retrieval using the trained representations.\n",
        "index = tfrs.layers.factorized_top_k.BruteForce(model.user_model)\n",
        "index.index_from_dataset(\n",
        "    products.batch(100).map(lambda prod: (prod, model.product_model(prod))))"
      ],
      "metadata": {
        "colab": {
          "base_uri": "https://localhost:8080/"
        },
        "id": "mJudl8ppkTh3",
        "outputId": "ead19f98-7ba2-41fc-df8c-4287bc7e1253"
      },
      "execution_count": 11,
      "outputs": [
        {
          "output_type": "stream",
          "name": "stdout",
          "text": [
            "Epoch 1/3\n",
            "25/25 [==============================] - 659s 26s/step - factorized_top_k/top_1_categorical_accuracy: 1.0000e-05 - factorized_top_k/top_5_categorical_accuracy: 1.0000e-05 - factorized_top_k/top_10_categorical_accuracy: 1.0000e-05 - factorized_top_k/top_50_categorical_accuracy: 5.0000e-05 - factorized_top_k/top_100_categorical_accuracy: 1.0000e-04 - loss: 32419.0675 - regularization_loss: 0.0000e+00 - total_loss: 32419.0675\n",
            "Epoch 2/3\n",
            "25/25 [==============================] - 598s 24s/step - factorized_top_k/top_1_categorical_accuracy: 0.0015 - factorized_top_k/top_5_categorical_accuracy: 0.0015 - factorized_top_k/top_10_categorical_accuracy: 0.0015 - factorized_top_k/top_50_categorical_accuracy: 0.0018 - factorized_top_k/top_100_categorical_accuracy: 0.0029 - loss: 31824.7437 - regularization_loss: 0.0000e+00 - total_loss: 31824.7437\n",
            "Epoch 3/3\n",
            "25/25 [==============================] - 533s 21s/step - factorized_top_k/top_1_categorical_accuracy: 0.1977 - factorized_top_k/top_5_categorical_accuracy: 0.2047 - factorized_top_k/top_10_categorical_accuracy: 0.2203 - factorized_top_k/top_50_categorical_accuracy: 0.3747 - factorized_top_k/top_100_categorical_accuracy: 0.4820 - loss: 20379.8732 - regularization_loss: 0.0000e+00 - total_loss: 20379.8732\n"
          ]
        },
        {
          "output_type": "execute_result",
          "data": {
            "text/plain": [
              "<tensorflow_recommenders.layers.factorized_top_k.BruteForce at 0x7fb44149a1d0>"
            ]
          },
          "metadata": {},
          "execution_count": 11
        }
      ]
    },
    {
      "cell_type": "code",
      "source": [
        "# Get some recommendations.\n",
        "_, prods = index(np.array([\"A1Z513UWSAAO0F\"]))\n",
        "print(f\"Top 10 recommendations for user A1Z513UWSAAO0F: {prods[0, :10]}\")"
      ],
      "metadata": {
        "colab": {
          "base_uri": "https://localhost:8080/"
        },
        "id": "EVPjE0NRk-Ai",
        "outputId": "5da9fd55-db9a-47d8-f7b9-8e66900f4ba9"
      },
      "execution_count": 12,
      "outputs": [
        {
          "output_type": "stream",
          "name": "stdout",
          "text": [
            "Top 10 recommendations for user A1Z513UWSAAO0F: [b'0558925278' b'0558925278' b'B000052YPG' b'B000052YPG' b'B000052YPG'\n",
            " b'B000052YPG' b'B000052YPG' b'B000052YPG' b'B000052YPG' b'B000052YPG']\n"
          ]
        }
      ]
    }
  ]
}